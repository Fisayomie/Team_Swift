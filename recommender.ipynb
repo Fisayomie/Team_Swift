from google.colab import drive
drive.mount('/gdrive')

import os
os.listdir("/gdrive/My Drive/Lucid")

os.chdir("/gdrive/My Drive/Lucid")

import pandas as pd 
import numpy as np
import warnings
warnings.filterwarnings('ignore')

r_cols = ['id', 'name', 'username', 'email','short_bio', 'id' 'title', 'content','tags', 'followers_id', 'status']
train_data_df = pd.read_csv('train.csv' )
test_data_df = pd.read_csv('test.csv')

train_data_df.info()

train_data_df.isnull().sum()

train_data_df.head()

To_drop =['name', 'username','email', 'Unnamed: 11']

def Drops(train_data_df):
  for col in train_data_df.columns:
    if col in ["Unnamed: 11"]:
      print(col)
      train_data_df.drop(col, axis =1, inplace=True)
      print(f'{col} is deleted')
    return train_data_df

train_data_df = Drops(train_data_df)
test_data_df = Drops(test_data_df)

for col in train_data_df.columns:
    if col in ["Unnamed: 11"]:
      print(col)
      train_data_df.drop(col, axis =1, inplace=True)

    
test_data_df.head()
      
train_data_df[['short_bio', 'content']]

train_data_df.groupby(['id'])['follower_id'].count()

import nltk

token = nltk.ToktokTokenizer()

train_data_df['short_bio'].apply(lambda x: token.tokenize(str(x)))
